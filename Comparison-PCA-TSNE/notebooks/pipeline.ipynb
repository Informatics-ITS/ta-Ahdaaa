{
 "cells": [
  {
   "cell_type": "markdown",
   "id": "6afcf7e0",
   "metadata": {},
   "source": [
    "#### Pipeline Best Model (Gabungan)"
   ]
  },
  {
   "cell_type": "code",
   "execution_count": 2,
   "id": "99e25d19",
   "metadata": {},
   "outputs": [
    {
     "name": "stdout",
     "output_type": "stream",
     "text": [
      "CM1.arff includes label column: defective → renamed to 'defective'\n",
      "JM1.arff includes label column: label → renamed to 'defective'\n",
      "KC1.arff includes label column: defective → renamed to 'defective'\n",
      "KC3.arff includes label column: defective → renamed to 'defective'\n",
      "⚠️ Skipping KC4.arff — too few columns (1)\n",
      "MC1.arff includes label column: defective → renamed to 'defective'\n",
      "MC2.arff includes label column: defective → renamed to 'defective'\n",
      "MW1.arff includes label column: defective → renamed to 'defective'\n",
      "PC1.arff includes label column: defective → renamed to 'defective'\n",
      "PC2.arff includes label column: defective → renamed to 'defective'\n",
      "PC3.arff includes label column: defective → renamed to 'defective'\n",
      "PC4.arff includes label column: defective → renamed to 'defective'\n",
      "PC5.arff includes label column: defective → renamed to 'defective'\n",
      "✅ Final common columns: ['branch_count', 'cyclomatic_complexity', 'defective', 'design_complexity', 'essential_complexity', 'halstead_content', 'halstead_difficulty', 'halstead_effort', 'halstead_error_est', 'halstead_length', 'halstead_level', 'halstead_prog_time', 'halstead_volume', 'loc_code_and_comment', 'loc_comments', 'loc_executable', 'loc_total', 'num_operands', 'num_operators', 'num_unique_operands', 'num_unique_operators']\n",
      "(17147, 21)\n",
      "📊 Evaluasi Model PCA + Random Forest (n_components=11):\n",
      "  Accuracy : 0.8228\n",
      "  Precision: 0.8010\n",
      "  Recall   : 0.8591\n",
      "  F1-Score : 0.8290\n",
      "\n",
      "✅ Pipeline berhasil disimpan ke 'pca_rf_pipeline.pkl'\n"
     ]
    }
   ],
   "source": [
    "import sys\n",
    "sys.path.append(\"..\") \n",
    "\n",
    "import joblib\n",
    "import pandas as pd\n",
    "from main import merge_datasets\n",
    "from imblearn.over_sampling import SMOTE\n",
    "\n",
    "from sklearn.pipeline import Pipeline\n",
    "from sklearn.preprocessing import StandardScaler\n",
    "from sklearn.decomposition import PCA\n",
    "from sklearn.ensemble import RandomForestClassifier\n",
    "from sklearn.model_selection import train_test_split\n",
    "from sklearn.metrics import accuracy_score, precision_score, recall_score, f1_score\n",
    "\n",
    "# 1️⃣ Load dan gabungkan dataset\n",
    "merged = merge_datasets()\n",
    "\n",
    "# 2️⃣ Pisahkan fitur dan label\n",
    "X = merged.drop(columns=[\"defective\"])\n",
    "y = merged[\"defective\"]\n",
    "\n",
    "# 3️⃣ Oversampling dengan SMOTE\n",
    "smote = SMOTE(random_state=42)\n",
    "X_resampled, y_resampled = smote.fit_resample(X, y)\n",
    "\n",
    "# 4️⃣ Split ke train/test\n",
    "X_train, X_test, y_train, y_test = train_test_split(\n",
    "    X_resampled, y_resampled, test_size=0.2, stratify=y_resampled, random_state=42\n",
    ")\n",
    "\n",
    "# 5️⃣ Buat pipeline: StandardScaler → PCA → RandomForest\n",
    "pipeline = Pipeline([\n",
    "    (\"scaler\", StandardScaler()),\n",
    "    (\"pca\", PCA(n_components=11, random_state=42)),\n",
    "    (\"rf\", RandomForestClassifier(random_state=42))\n",
    "])\n",
    "\n",
    "feature_names = X_train.columns.to_list()\n",
    "\n",
    "import json\n",
    "with open(\"feature_names.json\", \"w\") as f:\n",
    "    json.dump(feature_names, f)\n",
    "    \n",
    "# 6️⃣ Latih pipeline\n",
    "pipeline.fit(X_train, y_train)\n",
    "\n",
    "# 7️⃣ Evaluasi performa model\n",
    "y_pred = pipeline.predict(X_test)\n",
    "acc = accuracy_score(y_test, y_pred)\n",
    "prec = precision_score(y_test, y_pred)\n",
    "rec = recall_score(y_test, y_pred)\n",
    "f1 = f1_score(y_test, y_pred)\n",
    "\n",
    "print(\"📊 Evaluasi Model PCA + Random Forest (n_components=11):\")\n",
    "print(f\"  Accuracy : {acc:.4f}\")\n",
    "print(f\"  Precision: {prec:.4f}\")\n",
    "print(f\"  Recall   : {rec:.4f}\")\n",
    "print(f\"  F1-Score : {f1:.4f}\")\n",
    "\n",
    "# 8️⃣ Simpan pipeline ke file\n",
    "joblib.dump(pipeline, \"pca_rf_pipeline.pkl\")\n",
    "print(\"\\n✅ Pipeline berhasil disimpan ke 'pca_rf_pipeline.pkl'\")\n",
    "\n"
   ]
  }
 ],
 "metadata": {
  "kernelspec": {
   "display_name": "venv310",
   "language": "python",
   "name": "python3"
  },
  "language_info": {
   "codemirror_mode": {
    "name": "ipython",
    "version": 3
   },
   "file_extension": ".py",
   "mimetype": "text/x-python",
   "name": "python",
   "nbconvert_exporter": "python",
   "pygments_lexer": "ipython3",
   "version": "3.10.0"
  }
 },
 "nbformat": 4,
 "nbformat_minor": 5
}
